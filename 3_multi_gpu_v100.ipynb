{
 "cells": [
  {
   "cell_type": "markdown",
   "metadata": {},
   "source": [
    "## Train a large model on multiple GPUs - 4x V100 32GB\n",
    "\n",
    "In this section, we will practice strategies for training a large model using distributed processes across multiple GPUs. This section requires a host with 4x V100 GPUs with 32GB video RAM.\n",
    "\n",
    "> **Note**: If you have already done the “Multiple GPU” section on a 4x A100 GPU instance, you will skip this section! This is just an alternative version of the same ideas, executed on different hardware.\n",
    "\n",
    "After completing this section, you should understand the effect of\n",
    "\n",
    "-   distributed data parallelism\n",
    "-   and fully sharded data parallelism\n",
    "\n",
    "on a large model training job.\n",
    "\n",
    "You may view the Python code we will execute in this experiment [in our Github repository](https://github.com/teaching-on-testbeds/llm-chi/tree/main/torch).\n",
    "\n",
    "You will execute the commands in this section either inside an SSH session on the Chameleon “node-llm” server, or inside a container that runs on this server. You will need **two** terminals arranged side-by-side or vertically, and in both terminals, use SSH to connect to the “node-llm” server."
   ]
  },
  {
   "cell_type": "markdown",
   "metadata": {},
   "source": [
    "### Start the container\n",
    "\n",
    "We will run code inside a container that has:\n",
    "\n",
    "-   PyTorch\n",
    "-   NVIDIA CUDA and NVIDIA CUDA developer tools, because these will be needed to install DeepSpeed\n",
    "\n",
    "First, make sure there are no other containers running, because we will need exclusive access to the GPUs:\n",
    "\n",
    "``` bash\n",
    "# run on node-llm\n",
    "docker ps\n",
    "```\n",
    "\n",
    "If any containers are still running, stop them with\n",
    "\n",
    "``` bash\n",
    "# run on node-llm\n",
    "docker stop CONTAINER\n",
    "```\n",
    "\n",
    "(substituting the container name or ID in place of `CONTAINER`.)\n",
    "\n",
    "Then, start the PyTorch + NVIDIA CUDA and NVIDIA CUDA developer tools container with\n",
    "\n",
    "``` bash\n",
    "# run on node-llm\n",
    "docker run -it -v /home/cc/llm-chi/torch:/workspace --gpus all --ipc host pytorch/pytorch:2.5.1-cuda12.4-cudnn9-devel\n",
    "```\n",
    "\n",
    "Note that:\n",
    "\n",
    "-   `-v /home/cc/llm-chi/torch:/workspace` sets up a bind mount, so the contents of the `/home/cc/llm-chi/torch` directory on the “node-llm” host (which has the code we’ll use in this section!) will appear in the `/workspace` directory of the container.\n",
    "-   `--gpus all` passes through all of the host’s GPUs to the container\n",
    "-   `--ipc host` says to use the host namespace for inter-process communication, which will improve performance. (A slightly more secure alternative would be to set `--shm-size` to a large value, to increase the memory available for inter-process communication, but for our purposes `--ipc host` is fine and more convenient.)"
   ]
  },
  {
   "cell_type": "markdown",
   "metadata": {},
   "source": [
    "### Install software in the container\n",
    "\n",
    "Inside the container, install a few Python libraries:\n",
    "\n",
    "``` bash\n",
    "# run inside pytorch container\n",
    "pip install 'litgpt[all]'==0.5.7 'lightning<2.5.0.post0'\n",
    "```\n",
    "\n",
    "and download the foundation model we are going to fine-tune:\n",
    "\n",
    "``` bash\n",
    "# run inside pytorch container\n",
    "litgpt download TinyLlama/TinyLlama-1.1B-intermediate-step-1431k-3T\n",
    "```"
   ]
  },
  {
   "cell_type": "markdown",
   "metadata": {},
   "source": [
    "### Start `nvtop` on the host\n",
    "\n",
    "In your second terminal session, start `nvtop`, which we will use to monitor the resource usage of the NVIDIA GPUs on the host:\n",
    "\n",
    "``` bash\n",
    "# run on node-llm\n",
    "nvtop\n",
    "```\n",
    "\n",
    "and leave it running throughout all the experiments in this section."
   ]
  },
  {
   "cell_type": "markdown",
   "metadata": {},
   "source": [
    "### Experiment: TinyLlama 1.1B model on a single V100 32GB\n",
    "\n",
    "We previously noted that we can train an TinyLlama 1.1B model on a single GPU with bf16 precision and micro batch size 8, with less than 32GB of RAM (to fit in the memory of our V100).\n",
    "\n",
    "Now, we’ll repeat this test using the Python API for `litgpt` instead of its command line interface. You may view [v100_llama1b_1device.py](https://github.com/teaching-on-testbeds/llm-chi/blob/main/torch/v100_llama1b_1device.py) in our Github repository. Run it inside the container with:\n",
    "\n",
    "``` bash\n",
    "# run inside pytorch container\n",
    "python3 v100_llama1b_1device.py\n",
    "```\n",
    "\n",
    "As it runs, note in `nvtop` that only one GPU is used. We will see that for GPU 0, the GPU utilization is close to 100% and the GPU memory utilization is also high, but the other GPUs have zero utilization. Also note that in the list of processes, there is a single process running on device 0.\n",
    "\n",
    "Take a screenshot of this `nvtop` display while the script is running, for later reference.\n",
    "\n",
    "When the `python3` command finishes running in the container, note the training time (displayed to the right of the progress bar) and the memory usage reported in the output, and take a screenshot for later reference."
   ]
  },
  {
   "cell_type": "markdown",
   "metadata": {},
   "source": [
    "<!--\n",
    "\n",
    "Note to self:\n",
    "v100_llama1b_1device.py\n",
    "\n",
    "Allocated: 23.92 GB, Reserved: 25.16 GB\n",
    "Epoch 0: 100%|███████████████████████████████████████████████████████████████████████████████████████████████████████████████████| 125/125 [05:08<00:00,  0.41it/s, v_num=6, train_loss=1.120]\n",
    "\n",
    "-->"
   ]
  },
  {
   "cell_type": "markdown",
   "metadata": {},
   "source": [
    "### Experiment: TinyLlama 1.1B model on 4x V100 32GB with DDP\n",
    "\n",
    "Now, we’ll repeat the same experiment with DDP across 4 GPUs! You may view [v100_llama1b_4ddp.py](https://github.com/teaching-on-testbeds/llm-chi/blob/main/torch/v100_llama1b_4ddp.py) in our Github repository. Inside the container, run\n",
    "\n",
    "``` bash\n",
    "# run inside pytorch container\n",
    "python3 v100_llama1b_4ddp.py\n",
    "```\n",
    "\n",
    "In this training script, we’ve exchanged\n",
    "\n",
    "``` python\n",
    "    devices=1,\n",
    "```\n",
    "\n",
    "for\n",
    "\n",
    "``` python\n",
    "    devices=4,\n",
    "    strategy=DDPStrategy(),\n",
    "```\n",
    "\n",
    "Note that it may take a minute or two for the training job to start.\n",
    "\n",
    "As it runs, note in `nvtop` that four GPUs are used, all with high utilization, and that four processes are listed. Take a screenshot of this `nvtop` display while the script is running, for later reference.\n",
    "\n",
    "When the `python3` command finishes running in the container, note the training time (displayed to the right of the progress bar) and the memory usage reported in the output, and take a screenshot for later reference."
   ]
  },
  {
   "cell_type": "markdown",
   "metadata": {},
   "source": [
    "<!--\n",
    "\n",
    "Note to self:\n",
    "v100_llama1b_4ddp.py\n",
    "\n",
    "Allocated: 23.75 GB, Reserved: 31.22 GB\n",
    "Allocated: 23.10 GB, Reserved: 27.19 GB\n",
    "Allocated: 25.27 GB, Reserved: 28.74 GB\n",
    "Epoch 0: 100%|█████████████████████████████████████████████████████████████████████████████████████████████████████████████████████| 32/32 [01:36<00:00,  0.33it/s, v_num=7, train_loss=2.050]\n",
    "\n",
    "\n",
    "-->"
   ]
  },
  {
   "cell_type": "markdown",
   "metadata": {},
   "source": [
    "### Experiment: TinyLlama 1.1B model on 4x V100 32GB with FSDP\n",
    "\n",
    "With DDP, we have a larger effective batch size (since 4 GPUs process a batch in parallel), but no memory savings. With FSDP, we can shard optimizer state, gradients, and parameters across GPUs, to also reduce the memory required.\n",
    "\n",
    "You may view [v100_llama1b_4fsdp.py](https://github.com/teaching-on-testbeds/llm-chi/blob/main/torch/v100_llama1b_4fsdp.py) in our Github repository.\n",
    "\n",
    "Inside the container, run:\n",
    "\n",
    "``` bash\n",
    "# run inside pytorch container\n",
    "python3 v100_llama1b_4fsdp.py\n",
    "```\n",
    "\n",
    "In this training script, we’ve exchanged\n",
    "\n",
    "``` python\n",
    "    strategy=DDPStrategy(),\n",
    "```\n",
    "\n",
    "for\n",
    "\n",
    "``` python\n",
    "    strategy=FSDPStrategy(sharding_strategy='FULL_SHARD'),\n",
    "```\n",
    "\n",
    "As it runs, note in `nvtop` that four GPUs are used, with high utilization of the GPU but lower utilization of its memory. Take a screenshot of this `nvtop` display while the script is running, for later reference.\n",
    "\n",
    "When the `python3` command finishes running in the container, note the training time (displayed to the right of the progress bar) and the memory usage reported in the output, and take a screenshot for later reference."
   ]
  },
  {
   "cell_type": "markdown",
   "metadata": {},
   "source": [
    "<!--\n",
    "\n",
    "Note to self:\n",
    "v100_llama1b_4fsdp.py (FULL_SHARD)\n",
    "\n",
    "Allocated: 19.13 GB, Reserved: 26.12 GB\n",
    "Allocated: 20.65 GB, Reserved: 25.27 GB\n",
    "Allocated: 21.35 GB, Reserved: 24.99 GB\n",
    "Epoch 0: 100%|█████████████████████████████████████████████████████████████████████████████████████████████████████████████████████| 32/32 [02:00<00:00,  0.27it/s, v_num=8, train_loss=2.030]\n",
    "\n",
    "\n",
    "-->"
   ]
  },
  {
   "cell_type": "markdown",
   "metadata": {},
   "source": [
    "### Experiment: OpenLLaMA 3B model on 4x V100 32GB with FSDP\n",
    "\n",
    "Because of the memory savings achieved by FSDP, we can train a larger model without running out of memory.\n",
    "\n",
    "You may view [v100_llama3b_4fsdp.py](https://github.com/teaching-on-testbeds/llm-chi/blob/main/torch/v100_llama3b_4fsdp.py) in our Github repository.\n",
    "\n",
    "Inside the container, run:\n",
    "\n",
    "``` bash\n",
    "# run inside pytorch container\n",
    "python3 v100_llama3b_4fsdp.py\n",
    "```\n",
    "\n",
    "In this training script, we’ve changed the model to `openlm-research/open_llama_3b` and the batch size to `1`, and turned off gradient accumulation. Also, since this is slow, we’re training on a smaller fraction of the data than in our previous experiments.\n",
    "\n",
    "Take a screenshot of the `nvtop` display while the script is running, for later reference.\n",
    "\n",
    "When the `python3` command finishes running in the container, note the training time (displayed to the right of the progress bar) and the memory usage reported in the output, and take a screenshot for later reference.\n",
    "\n",
    "Note that we cannot train this model on a single V100 without running out of memory - try\n",
    "\n",
    "``` bash\n",
    "# run inside pytorch container\n",
    "python3 v100_llama3b_1device.py\n",
    "```\n",
    "\n",
    "which runs on one GPU but otherwise has the same configuration, and observe that you get an OOM error."
   ]
  },
  {
   "cell_type": "markdown",
   "metadata": {},
   "source": [
    "<!--\n",
    "\n",
    "Note to self:\n",
    "\n",
    "Allocated: 13.12 GB, Reserved: 28.35 GB\n",
    "Allocated: 13.26 GB, Reserved: 27.56 GB\n",
    "Allocated: 13.27 GB, Reserved: 27.54 GB\n",
    "\n",
    "Epoch 0: 100%|████████████████████████████████████████████████████████████████████████████████████████████████████████████████████| 50/50 [05:04<00:00,  0.16it/s, v_num=16, train_loss=1.880]\n",
    "\n",
    "\n",
    "-->"
   ]
  },
  {
   "cell_type": "markdown",
   "metadata": {},
   "source": [
    "#### Debugging note\n",
    "\n",
    "Note: if any training job crashes due to OOM, you can ensure all of the distributed processes are stopped by running\n",
    "\n",
    "``` bash\n",
    "# run inside pytorch container\n",
    "pkill -9 python\n",
    "```"
   ]
  }
 ],
 "nbformat": 4,
 "nbformat_minor": 4,
 "metadata": {
  "kernelspec": {
   "name": "python3",
   "display_name": "Python 3 (ipykernel)",
   "language": "python"
  },
  "language_info": {
   "name": "python",
   "codemirror_mode": {
    "name": "ipython",
    "version": "3"
   },
   "file_extension": ".py",
   "mimetype": "text/x-python"
  }
 }
}

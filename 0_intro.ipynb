{
 "cells": [
  {
   "cell_type": "markdown",
   "metadata": {},
   "source": [
    "# Large-scale model training on Chameleon\n",
    "\n",
    "In this tutorial, we will practice fine-tuning a large language model. We will use a selection of techniques to allow us to train models that would not otherwise fit in GPU memory:\n",
    "\n",
    "-   gradient accumulation\n",
    "-   reduced precision\n",
    "-   parameter efficient fine tuning\n",
    "-   distributed training across multiple GPUs and with CPU offload\n",
    "\n",
    "To run this experiment, you should have already created an account on Chameleon, and become part of a project. You must also have added your SSH key to the CHI@UC site."
   ]
  },
  {
   "cell_type": "markdown",
   "metadata": {},
   "source": [
    "## Experiment topology\n",
    "\n",
    "In this experiment, we will deploy a single bare metal instance with specific NVIDIA GPU capabilities.\n",
    "\n",
    "-   In the “Single GPU” section: To use `bfloat16` in our experiments with reduced precision, we need a GPU with [NVIDIA CUDA compute capability](https://developer.nvidia.com/cuda-gpus) 8.0 or higher. For example, some Chameleon nodes have A100 or A30 GPUs, which have compute capability 8.0. If we use a V100, with compute capability 7.0, the `bfloat16` capability is actually emulated in software.\n",
    "-   In the “Multiple GPU” section: To practice distributed training with multiple GPUs, will request a node with 4 GPUs.\n",
    "\n",
    "We can browse Chameleon hardware configurations for suitable node types using the [Hardware Browser](https://chameleoncloud.org/hardware/).\n",
    "\n",
    "For example, to find nodes with 4x GPUs: if we expand “Advanced Filters”, check the “4” box under “GPU count”, and then click “View”, we can identify some suitable node types: `gpu_a100_pcie`, `gpu_a100_nvlink`, `gpu_v100`, or `gpu_v100_nvlink` at CHI@UC. (The [NVLink](https://www.nvidia.com/en-us/design-visualization/nvlink-bridges/)-type nodes have a high-speed interconnect between GPUs.)\n",
    "\n",
    "(We will avoid `p100`-based node types for this experiment, because the P100 has less GPU RAM, and less compute capability.)"
   ]
  },
  {
   "cell_type": "markdown",
   "metadata": {},
   "source": [
    "## Create a lease"
   ]
  },
  {
   "cell_type": "markdown",
   "metadata": {},
   "source": [
    "To use bare metal resources on Chameleon, we must reserve them in advance. We can use the OpenStack graphical user interface, Horizon, to submit a lease for an A100 or V100 node at CHI@UC. To access this interface,\n",
    "\n",
    "-   from the [Chameleon website](https://chameleoncloud.org/hardware/)\n",
    "-   click “Experiment” \\> “CHI@UC”\n",
    "-   log in if prompted to do so\n",
    "-   check the project drop-down menu near the top left (which shows e.g. “CHI-XXXXXX”), and make sure the correct project is selected."
   ]
  },
  {
   "cell_type": "markdown",
   "metadata": {},
   "source": [
    "**If you plan to do “Single GPU” and “Multiple GPU” together in a 3-hour block**:\n",
    "\n",
    "-   On the left side, click on “Reservations” \\> “Leases”, and then click on “Host Calendar”. In the “Node type” drop down menu, change the type to `gpu_a100_pcie` to see the schedule of availability. You may change the date range setting to “30 days” to see a longer time scale. Note that the dates and times in this display are in UTC. You can use [WolframAlpha](https://www.wolframalpha.com/) or equivalent to convert to your local time zone.\n",
    "-   Once you have identified an available three-hour block in UTC time that works for you in your local time zone, make a note of:\n",
    "    -   the start and end time of the time you will try to reserve. (Note that if you mouse over an existing reservation, a pop up will show you the exact start and end time of that reservation.)\n",
    "    -   and the node type or name of the node you want to reserve.\n",
    "-   Then, on the left side, click on “Reservations” \\> “Leases”, and then click on “Create Lease”:\n",
    "    -   set the “Name” to <code>llm\\_<b>netID</b></code> where in place of <code><b>netID</b></code> you substitute your actual net ID.\n",
    "    -   set the start date and time in UTC\n",
    "    -   modify the lease length (in days) until the end date is correct. Then, set the end time. To be mindful of other users, you should limit your lease time as directed.\n",
    "    -   Click “Next”. On the “Hosts” tab,\n",
    "    -   check the “Reserve hosts” box\n",
    "    -   leave the “Minimum number of hosts” and “Maximum number of hosts” at 1\n",
    "    -   in “Resource properties”, specify the node type that you identified earlier.\n",
    "    -   Click “Next”. Then, click “Create”. (We won’t include any network resources in this lease.)\n",
    "\n",
    "Your lease status should show as “Pending”. If you click on the lease, you can see an overview, including the start time and end time, and it will show the name of the physical host that is reserved for you as part of your lease."
   ]
  },
  {
   "cell_type": "markdown",
   "metadata": {},
   "source": [
    "**If you plan to do “Single GPU” and “Multiple GPU” separately in two 2-hour blocks**:\n",
    "\n",
    "First, make a 2-hour reservation on a node with a single A100 80GB GPU. We will use a `compute_gigaio`, but avoid [`gigaio-compute-06`](https://chameleoncloud.org/hardware/node/sites/uc/clusters/chameleon/nodes/25ba0313-900d-4133-9bb3-9f622d743c2d/) which has no GPU.\n",
    "\n",
    "-   On the left side, click on “Reservations” \\> “Leases”, and then click on “Host Calendar”. In the “Node type” drop down menu, change the type to `compute_gigaio` to see the schedule of availability. You may change the date range setting to “30 days” to see a longer time scale. Note that the dates and times in this display are in UTC. You can use [WolframAlpha](https://www.wolframalpha.com/) or equivalent to convert to your local time zone.\n",
    "-   Once you have identified an available three-hour block in UTC time that works for you in your local time zone, make a note of:\n",
    "    -   the start and end time of the time you will try to reserve. (Note that if you mouse over an existing reservation, a pop up will show you the exact start and end time of that reservation.)\n",
    "    -   and the name of the node you want to reserve.\n",
    "-   Then, on the left side, click on “Reservations” \\> “Leases”, and then click on “Create Lease”:\n",
    "    -   set the “Name” to <code>llm_single\\_<b>netID</b></code> where in place of <code><b>netID</b></code> you substitute your actual net ID.\n",
    "    -   set the start date and time in UTC\n",
    "    -   modify the lease length (in days) until the end date is correct. Then, set the end time. To be mindful of other users, you should limit your lease time as directed.\n",
    "    -   Click “Next”. On the “Hosts” tab,\n",
    "    -   check the “Reserve hosts” box\n",
    "    -   leave the “Minimum number of hosts” and “Maximum number of hosts” at 1\n",
    "    -   in “Resource properties”, specify the node name that you identified earlier.\n",
    "    -   Click “Next”. Then, click “Create”. (We won’t include any network resources in this lease.)\n",
    "\n",
    "Your lease status should show as “Pending”. If you click on the lease, you can see an overview, including the start time and end time, and it will show the name of the physical host that is reserved for you as part of your lease.\n",
    "\n",
    "Next, make a 2-hour reservation on a node with 4x A100 or 4x V100 GPU. Repeat the steps above, but for an `gpu_a100_pcie` or `gpu_v100` node type, and use the lease name <code>llm_multi\\_<b>netID</b></code> (with your own net ID)."
   ]
  },
  {
   "cell_type": "markdown",
   "metadata": {},
   "source": [
    "Since you will need the full lease time to actually execute your experiment, you should read *all* of the experiment material ahead of time in preparation, so that you make the best possible use of your GPU time."
   ]
  },
  {
   "cell_type": "markdown",
   "metadata": {},
   "source": [
    "At the beginning of your lease time, you will continue with the next step, in which you bring up a bare metal instance!"
   ]
  }
 ],
 "nbformat": 4,
 "nbformat_minor": 4,
 "metadata": {
  "kernelspec": {
   "name": "python3",
   "display_name": "Python 3 (ipykernel)",
   "language": "python"
  },
  "language_info": {
   "name": "python",
   "codemirror_mode": {
    "name": "ipython",
    "version": "3"
   },
   "file_extension": ".py",
   "mimetype": "text/x-python"
  }
 }
}
